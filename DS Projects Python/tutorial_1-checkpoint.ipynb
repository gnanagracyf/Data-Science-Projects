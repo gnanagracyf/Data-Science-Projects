{
 "cells": [
  {
   "cell_type": "code",
   "execution_count": 4,
   "metadata": {},
   "outputs": [],
   "source": [
    "from keras import models\n",
    "from keras import layers\n",
    "from keras.models import Sequential"
   ]
  },
  {
   "cell_type": "code",
   "execution_count": 7,
   "metadata": {},
   "outputs": [],
   "source": [
    "model = models.Sequential()"
   ]
  },
  {
   "cell_type": "code",
   "execution_count": 9,
   "metadata": {},
   "outputs": [],
   "source": [
    "model.add(layers.Dense(32, activation='relu', input_dim=100))\n",
    "model.add(layers.Dense(1, activation='sigmoid'))\n",
    "model.compile(optimizer='rmsprop',loss='binary_crossentropy', metrics=['accuracy'])\n"
   ]
  },
  {
   "cell_type": "code",
   "execution_count": 10,
   "metadata": {},
   "outputs": [],
   "source": [
    "import numpy as np\n",
    "data = np.random.random((1000, 100))\n",
    "labels = np.random.randint(2, size=(1000, 1))"
   ]
  },
  {
   "cell_type": "code",
   "execution_count": 16,
   "metadata": {},
   "outputs": [
    {
     "data": {
      "text/plain": [
       "(100,)"
      ]
     },
     "execution_count": 16,
     "metadata": {},
     "output_type": "execute_result"
    }
   ],
   "source": [
    "data[0].shape"
   ]
  },
  {
   "cell_type": "code",
   "execution_count": 22,
   "metadata": {},
   "outputs": [
    {
     "name": "stdout",
     "output_type": "stream",
     "text": [
      "Epoch 1/10\n",
      "1000/1000 [==============================] - 1s 698us/step - loss: 0.7010 - acc: 0.5020\n",
      "Epoch 2/10\n",
      "1000/1000 [==============================] - 0s 47us/step - loss: 0.6923 - acc: 0.5380\n",
      "Epoch 3/10\n",
      "1000/1000 [==============================] - 0s 47us/step - loss: 0.6860 - acc: 0.5350\n",
      "Epoch 4/10\n",
      "1000/1000 [==============================] - 0s 62us/step - loss: 0.6884 - acc: 0.5360\n",
      "Epoch 5/10\n",
      "1000/1000 [==============================] - 0s 94us/step - loss: 0.6838 - acc: 0.5540\n",
      "Epoch 6/10\n",
      "1000/1000 [==============================] - 0s 78us/step - loss: 0.6814 - acc: 0.5550\n",
      "Epoch 7/10\n",
      "1000/1000 [==============================] - 0s 31us/step - loss: 0.6834 - acc: 0.5570\n",
      "Epoch 8/10\n",
      "1000/1000 [==============================] - 0s 62us/step - loss: 0.6811 - acc: 0.5500\n",
      "Epoch 9/10\n",
      "1000/1000 [==============================] - 0s 109us/step - loss: 0.6768 - acc: 0.5720\n",
      "Epoch 10/10\n",
      "1000/1000 [==============================] - 0s 47us/step - loss: 0.6742 - acc: 0.5800\n"
     ]
    },
    {
     "data": {
      "text/plain": [
       "<keras.callbacks.History at 0x1ef9c3ee080>"
      ]
     },
     "execution_count": 22,
     "metadata": {},
     "output_type": "execute_result"
    }
   ],
   "source": [
    "model.fit(data,labels,epochs=10,batch_size=128)"
   ]
  },
  {
   "cell_type": "code",
   "execution_count": null,
   "metadata": {},
   "outputs": [],
   "source": []
  }
 ],
 "metadata": {
  "kernelspec": {
   "display_name": "Python (tensorflow)",
   "language": "python",
   "name": "tensorflow"
  },
  "language_info": {
   "codemirror_mode": {
    "name": "ipython",
    "version": 3
   },
   "file_extension": ".py",
   "mimetype": "text/x-python",
   "name": "python",
   "nbconvert_exporter": "python",
   "pygments_lexer": "ipython3",
   "version": "3.6.8"
  }
 },
 "nbformat": 4,
 "nbformat_minor": 2
}
