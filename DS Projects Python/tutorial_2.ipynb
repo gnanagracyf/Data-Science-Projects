{
 "cells": [
  {
   "cell_type": "code",
   "execution_count": 9,
   "metadata": {},
   "outputs": [],
   "source": [
    "from keras import models\n",
    "from keras import layers\n",
    "from keras import utils\n",
    "from keras.models import Sequential"
   ]
  },
  {
   "cell_type": "code",
   "execution_count": 2,
   "metadata": {},
   "outputs": [],
   "source": [
    "model = models.Sequential()\n",
    "model.add(layers.Dense(32, activation='relu', input_dim=100))\n",
    "model.add(layers.Dense(10, activation='softmax'))\n",
    "model.compile(optimizer='rmsprop', loss='categorical_crossentropy', metrics=['accuracy'])"
   ]
  },
  {
   "cell_type": "code",
   "execution_count": 5,
   "metadata": {},
   "outputs": [],
   "source": [
    "import numpy as np\n",
    "data = np.random.random((1000,100))\n",
    "labels = np.random.randint(10,size=(1000,1))"
   ]
  },
  {
   "cell_type": "code",
   "execution_count": 10,
   "metadata": {},
   "outputs": [],
   "source": [
    "one_hot_labels = utils.to_categorical(labels,num_classes=10)"
   ]
  },
  {
   "cell_type": "code",
   "execution_count": 11,
   "metadata": {},
   "outputs": [
    {
     "data": {
      "text/plain": [
       "array([0., 0., 1., 0., 0., 0., 0., 0., 0., 0.], dtype=float32)"
      ]
     },
     "execution_count": 11,
     "metadata": {},
     "output_type": "execute_result"
    }
   ],
   "source": [
    "one_hot_labels[0]"
   ]
  },
  {
   "cell_type": "code",
   "execution_count": 15,
   "metadata": {},
   "outputs": [
    {
     "name": "stdout",
     "output_type": "stream",
     "text": [
      "Epoch 1/10\n",
      "1000/1000 [==============================] - 0s 342us/step - loss: 2.3600 - acc: 0.0890\n",
      "Epoch 2/10\n",
      "1000/1000 [==============================] - 0s 69us/step - loss: 2.3231 - acc: 0.1060\n",
      "Epoch 3/10\n",
      "1000/1000 [==============================] - 0s 46us/step - loss: 2.3074 - acc: 0.1120\n",
      "Epoch 4/10\n",
      "1000/1000 [==============================] - 0s 58us/step - loss: 2.2996 - acc: 0.1080\n",
      "Epoch 5/10\n",
      "1000/1000 [==============================] - 0s 79us/step - loss: 2.2916 - acc: 0.1220\n",
      "Epoch 6/10\n",
      "1000/1000 [==============================] - 0s 68us/step - loss: 2.2848 - acc: 0.1260\n",
      "Epoch 7/10\n",
      "1000/1000 [==============================] - 0s 69us/step - loss: 2.2777 - acc: 0.1340\n",
      "Epoch 8/10\n",
      "1000/1000 [==============================] - 0s 52us/step - loss: 2.2701 - acc: 0.1470\n",
      "Epoch 9/10\n",
      "1000/1000 [==============================] - 0s 57us/step - loss: 2.2623 - acc: 0.1540\n",
      "Epoch 10/10\n",
      "1000/1000 [==============================] - 0s 68us/step - loss: 2.2558 - acc: 0.1580\n"
     ]
    },
    {
     "data": {
      "text/plain": [
       "<keras.callbacks.History at 0x240fb6d90b8>"
      ]
     },
     "execution_count": 15,
     "metadata": {},
     "output_type": "execute_result"
    }
   ],
   "source": [
    "model.fit(data, one_hot_labels, epochs=10, batch_size=32)"
   ]
  },
  {
   "cell_type": "markdown",
   "metadata": {},
   "source": []
  }
 ],
 "metadata": {
  "kernelspec": {
   "display_name": "Python (tensorflow)",
   "language": "python",
   "name": "tensorflow"
  },
  "language_info": {
   "codemirror_mode": {
    "name": "ipython",
    "version": 3
   },
   "file_extension": ".py",
   "mimetype": "text/x-python",
   "name": "python",
   "nbconvert_exporter": "python",
   "pygments_lexer": "ipython3",
   "version": "3.6.8"
  }
 },
 "nbformat": 4,
 "nbformat_minor": 2
}
