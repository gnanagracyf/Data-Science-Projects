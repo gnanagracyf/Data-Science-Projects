{
 "cells": [
  {
   "cell_type": "code",
   "execution_count": null,
   "metadata": {
    "collapsed": true
   },
   "outputs": [],
   "source": [
    "# -*- coding: utf-8 -*-\n",
    "\"\"\"\n",
    "Created on Fri Oct 13 15:27:14 2017\n",
    "\n",
    "@author: dcockbur\n",
    "\"\"\"\n",
    "\n",
    "#%%\n",
    "\"\"\" Bringing it together \"\"\"\n",
    "import matplotlib.animation as animation\n",
    "import matplotlib.pyplot as plt\n",
    "import numpy as np\n",
    "#%matplotlib notebook\n",
    "n = 1000\n",
    "# generate 4 random variables from the random, gamma, exponential, and uniform distributions\n",
    "x1 = np.random.normal(0, 1.7, n)\n",
    "x2 = np.random.gamma(2, 1.7, n)-3\n",
    "x3 = np.random.exponential(1.7,n)-3\n",
    "x4 = np.random.uniform(-5,5, n)\n",
    "\n",
    "xs = [x1,x2,x3,x4]\n",
    "tit = [\"Normal\", 'Gamma', 'Exponential', 'Uniform']\n",
    "fig, (bx1,bx2,bx3,bx4) = plt.subplots(1,4, sharey = True)\n",
    "bs = (bx1,bx2,bx3,bx4)\n",
    "#xaxis=[] \n",
    "#for item in xs:\n",
    "#    xaxis.append(np.mean(item))\n",
    "\n",
    "fig.suptitle('Understanding Distribution through sampling', fontweight = 'bold' )\n",
    "\n",
    "def ani(frame):\n",
    "    bins=np.arange(-5,5.5,0.5)\n",
    "    if frame == (n/20)+1:\n",
    "        a.event_source.stop()\n",
    "    else:\n",
    "\n",
    "        #plt.cla()\n",
    "        for i in range(4):\n",
    "            c1=(0.2*i,0.2*i/(i+1),0.8/(i+1),0.9)\n",
    "            c2=(0.2*i,0.2*i/(i+1),0.8/(i+1),0.6)\n",
    "            bs[i].cla()\n",
    "            bs[i].hist(xs[i][:frame*20], bins = bins, color=c2)\n",
    "            bs[i].set_title(tit[i], color=c1)\n",
    "            bs[i].tick_params(left='off', bottom = 'off')\n",
    "            #bs[i].set_xlim(xaxis[i]-6,xaxis[i]+6)\n",
    "            bs[i].annotate('n = {}'.format(frame*20), \n",
    "              (bs[i].get_xlim()[1], 245), horizontalalignment='right', color=c1) #(xs[i].mean()-1.5,95))\n",
    "    #Fixes y axis\n",
    "        plt.gca().set_ylim([0,275])\n",
    "        plt.gca().set_xlim([-6,6])\n",
    "    #Sets tick labels only on outer axes/subplots\n",
    "        for ax in plt.gcf().axes:\n",
    "            try:\n",
    "                ax.label_outer()\n",
    "            except:\n",
    "                pass\n",
    "\n",
    "a = animation.FuncAnimation(fig, ani, interval = 20)\n",
    "\n",
    "\n",
    "\n",
    "#%%"
   ]
  }
 ],
 "metadata": {
  "kernelspec": {
   "display_name": "Python 2",
   "language": "python",
   "name": "python2"
  },
  "language_info": {
   "codemirror_mode": {
    "name": "ipython",
    "version": 2
   },
   "file_extension": ".py",
   "mimetype": "text/x-python",
   "name": "python",
   "nbconvert_exporter": "python",
   "pygments_lexer": "ipython2",
   "version": "2.7.14"
  }
 },
 "nbformat": 4,
 "nbformat_minor": 2
}
