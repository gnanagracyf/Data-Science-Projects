{
 "cells": [
  {
   "cell_type": "code",
   "execution_count": 4,
   "metadata": {
    "collapsed": true
   },
   "outputs": [],
   "source": [
    "import pandas as pd\n",
    "import numpy as np\n",
    "from scipy.stats import ttest_ind"
   ]
  },
  {
   "cell_type": "code",
   "execution_count": 5,
   "metadata": {
    "collapsed": true
   },
   "outputs": [],
   "source": [
    "# Use this dictionary to map state names to two letter acronyms\n",
    "states = {'OH': 'Ohio', 'KY': 'Kentucky', 'AS': 'American Samoa', 'NV': 'Nevada', 'WY': 'Wyoming', 'NA': 'National', 'AL': 'Alabama', 'MD': 'Maryland', 'AK': 'Alaska', 'UT': 'Utah', 'OR': 'Oregon', 'MT': 'Montana', 'IL': 'Illinois', 'TN': 'Tennessee', 'DC': 'District of Columbia', 'VT': 'Vermont', 'ID': 'Idaho', 'AR': 'Arkansas', 'ME': 'Maine', 'WA': 'Washington', 'HI': 'Hawaii', 'WI': 'Wisconsin', 'MI': 'Michigan', 'IN': 'Indiana', 'NJ': 'New Jersey', 'AZ': 'Arizona', 'GU': 'Guam', 'MS': 'Mississippi', 'PR': 'Puerto Rico', 'NC': 'North Carolina', 'TX': 'Texas', 'SD': 'South Dakota', 'MP': 'Northern Mariana Islands', 'IA': 'Iowa', 'MO': 'Missouri', 'CT': 'Connecticut', 'WV': 'West Virginia', 'SC': 'South Carolina', 'LA': 'Louisiana', 'KS': 'Kansas', 'NY': 'New York', 'NE': 'Nebraska', 'OK': 'Oklahoma', 'FL': 'Florida', 'CA': 'California', 'CO': 'Colorado', 'PA': 'Pennsylvania', 'DE': 'Delaware', 'NM': 'New Mexico', 'RI': 'Rhode Island', 'MN': 'Minnesota', 'VI': 'Virgin Islands', 'NH': 'New Hampshire', 'MA': 'Massachusetts', 'GA': 'Georgia', 'ND': 'North Dakota', 'VA': 'Virginia'}"
   ]
  },
  {
   "cell_type": "code",
   "execution_count": 6,
   "metadata": {
    "collapsed": true
   },
   "outputs": [],
   "source": [
    "def get_list_of_university_towns():\n",
    "    #'''Returns a DataFrame of towns and the states they are in from the \n",
    "    #university_towns.txt list. The format of the DataFrame should be:\n",
    "    #DataFrame( [ [\"Michigan\", \"Ann Arbor\"], [\"Michigan\", \"Yipsilanti\"] ], \n",
    "    #columns=[\"State\", \"RegionName\"]  )\n",
    "        \n",
    "    \n",
    "    #The following cleaning needs to be done:\n",
    "\n",
    "    #1. For \"State\", removing characters from \"[\" to the end.\n",
    "    #2. For \"RegionName\", when applicable, removing every character from \" (\" to the end.\n",
    "    #3. Depending on how you read the data, you may need to remove newline character '\\n'. '''\n",
    "    data = pd.read_csv('university_towns.txt', sep=r'^.+\\[\"edit\"\\]' , header=None, engine='python')\n",
    "    data.columns = [\"RegionName\"]\n",
    "        \n",
    "    data['State'] = data['RegionName'].where(data['RegionName'].str.endswith('[edit]'))\n",
    "        \n",
    "    data['State'] = data['State'].fillna(method='ffill')\n",
    "         \n",
    "    data['State'] = data['State'].str.replace('\\[.*\\]','')\n",
    "    data['RegionName'] = data['RegionName'].str.replace('\\[.*\\]','')\n",
    "    data['RegionName'] = data['RegionName'].str.replace('\\(.*\\)','')\n",
    "    \n",
    "    \n",
    "    data.drop(data[data['RegionName'] == data['State']].index,inplace=True)\n",
    "    data.reset_index(inplace=True,drop=True)\n",
    "    \n",
    "    data['State'] = data['State'].str.strip()\n",
    "    data['RegionName'] = data['RegionName'].str.strip()\n",
    "    cols = ['State','RegionName']\n",
    "    data = data[cols]\n",
    "    \n",
    "    data.set_index('State',inplace=True)\n",
    "    #data.to_records().tolist()\n",
    "    \n",
    "    return data"
   ]
  },
  {
   "cell_type": "code",
   "execution_count": 7,
   "metadata": {
    "collapsed": true
   },
   "outputs": [],
   "source": [
    "def get_recession_start():\n",
    "    '''Returns the year and quarter of the recession start time as a \n",
    "    string value in a format such as 2005q3'''\n",
    "    import pandas as pd\n",
    "    import numpy as np\n",
    "    gdp_data = pd.ExcelFile('gdplev.xls')\n",
    "    gdp_data.sheet_names\n",
    "    gdp = gdp_data.parse(\"Sheet1\")\n",
    "    gdp = gdp.dropna(axis=1,how='all')\n",
    "    gdp = gdp.dropna(axis=0,how='all')    \n",
    "    gdp.columns = ['Period-A','GDP1-A','GDP2-A','Quarter','GDP1-Q','GDP chained']\n",
    "    \n",
    "    gdp.drop(['Period-A','GDP1-A','GDP2-A','GDP1-Q'],axis=1,inplace=True)\n",
    "    gdp.drop(gdp.index[:3], inplace=True)\n",
    "    gdp.reset_index(inplace=True,drop=True)\n",
    "    \n",
    "    gdp['GDP Change'] = gdp['GDP chained'] - gdp['GDP chained'].shift(1)\n",
    "    \n",
    "    gdp['Change'] = gdp['GDP Change'].apply(lambda x: \"decline\" if (x < 0 ) else \"growth\" )\n",
    "    \n",
    "    s = gdp['Quarter'].where((gdp['Change'] == \"decline\") & (gdp['Change'].shift(-1) == \"decline\") & (gdp['Change'].shift(1) == \"growth\") & gdp['Quarter'].str.startswith(\"2\"))\n",
    "    \n",
    "    res = s[~s.isnull()].values[0]\n",
    "    return res"
   ]
  },
  {
   "cell_type": "code",
   "execution_count": 8,
   "metadata": {
    "collapsed": true
   },
   "outputs": [],
   "source": [
    "def get_recession_end():\n",
    "    '''Returns the year and quarter of the recession end time as a \n",
    "    string value in a format such as 2005q3'''\n",
    "    import pandas as pd\n",
    "    import numpy as np\n",
    "    gdp_data = pd.ExcelFile('gdplev.xls')\n",
    "    gdp_data.sheet_names\n",
    "    gdp = gdp_data.parse(\"Sheet1\")\n",
    "    gdp = gdp.dropna(axis=1,how='all')\n",
    "    gdp = gdp.dropna(axis=0,how='all')    \n",
    "    gdp.columns = ['Period-A','GDP1-A','GDP2-A','Quarter','GDP1-Q','GDP chained']\n",
    "    \n",
    "    gdp.drop(['Period-A','GDP1-A','GDP2-A','GDP1-Q'],axis=1,inplace=True)\n",
    "    gdp.drop(gdp.index[:3], inplace=True)\n",
    "    gdp.reset_index(inplace=True,drop=True)\n",
    "    \n",
    "    gdp['GDP Change'] = gdp['GDP chained'] - gdp['GDP chained'].shift(1)\n",
    "    \n",
    "    gdp['Change'] = gdp['GDP Change'].apply(lambda x: \"decline\" if (x < 0 ) else \"growth\" )\n",
    "    \n",
    "    s = gdp['Quarter'].where((gdp['Change'] == \"growth\") & (gdp['Change'].shift(1) == \"growth\") & (gdp['Change'].shift(2) == \"decline\") & (gdp['Change'].shift(3) == \"decline\") & gdp['Quarter'].str.startswith(\"2\"))\n",
    "    \n",
    "    res = s[~s.isnull()].values[0]\n",
    "    return res"
   ]
  },
  {
   "cell_type": "code",
   "execution_count": 9,
   "metadata": {
    "collapsed": true
   },
   "outputs": [],
   "source": [
    "def get_recession_bottom():\n",
    "    '''Returns the year and quarter of the recession bottom time as a \n",
    "    string value in a format such as 2005q3'''\n",
    "    import pandas as pd\n",
    "    import numpy as np\n",
    "    gdp_data = pd.ExcelFile('gdplev.xls')\n",
    "    gdp_data.sheet_names\n",
    "    gdp = gdp_data.parse(\"Sheet1\")\n",
    "    gdp = gdp.dropna(axis=1,how='all')\n",
    "    gdp = gdp.dropna(axis=0,how='all')    \n",
    "    gdp.columns = ['Period-A','GDP1-A','GDP2-A','Quarter','GDP1-Q','GDP chained']\n",
    "    \n",
    "    gdp.drop(['Period-A','GDP1-A','GDP2-A','GDP1-Q'],axis=1,inplace=True)\n",
    "    gdp.drop(gdp.index[:3], inplace=True)\n",
    "    gdp.reset_index(inplace=True,drop=True)\n",
    "    \n",
    "    gdp['GDP Change'] = gdp['GDP chained'] - gdp['GDP chained'].shift(1)\n",
    "    \n",
    "    gdp['Change'] = gdp['GDP Change'].apply(lambda x: \"decline\" if (x < 0 ) else \"growth\" )\n",
    "    \n",
    "    recession_start = gdp['Quarter'].where((gdp['Change'] == \"decline\") & (gdp['Change'].shift(-1) == \"decline\") & (gdp['Change'].shift(1) == \"growth\") & gdp['Quarter'].str.startswith(\"2\"))\n",
    "    \n",
    "    recession_end = gdp['Quarter'].where((gdp['Change'] == \"growth\") & (gdp['Change'].shift(1) == \"growth\") & (gdp['Change'].shift(2) == \"decline\") & (gdp['Change'].shift(3) == \"decline\") & gdp['Quarter'].str.startswith(\"2\"))\n",
    "    \n",
    "  \n",
    "    \n",
    "    rstart = recession_start[~recession_start.isnull()]\n",
    "    rend = recession_end[~recession_end.isnull()]\n",
    "    \n",
    "    \n",
    "    \n",
    "    gdp.set_index(['Quarter'],inplace=True)\n",
    "    res_gdp = gdp[str(rstart.iloc[0]):str(rend.iloc[0])]\n",
    "    \n",
    "    s = str(res_gdp.loc[res_gdp['GDP chained'] == res_gdp['GDP chained'].min()].index.values[0])\n",
    "    \n",
    "    return s"
   ]
  },
  {
   "cell_type": "code",
   "execution_count": 10,
   "metadata": {
    "collapsed": true
   },
   "outputs": [],
   "source": [
    "def convert_housing_data_to_quarters():\n",
    "    \n",
    "    '''Converts the housing data to quarters and returns it as mean \n",
    "    values in a dataframe. This dataframe should be a dataframe with\n",
    "    columns for 2000q1 through 2016q3, and should have a multi-index\n",
    "    in the shape of [\"State\",\"RegionName\"].\n",
    "    \n",
    "    Note: Quarters are defined in the assignment description, they are\n",
    "    not arbitrary three month periods.\n",
    "    \n",
    "    The resulting dataframe should have 67 columns, and 10,730 rows.\n",
    "    '''\n",
    "    data = pd.read_csv('City_Zhvi_AllHomes.csv')\n",
    "    data.replace({\"State\": states},inplace=True)\n",
    "    data.set_index(['State','RegionName'],drop=True, inplace=True)\n",
    "    \n",
    "    for i in range(1997,2000):\n",
    "        for j in range(1,13):\n",
    "            if ( j < 10):\n",
    "                j = '0' + str(j)\n",
    "            data.drop(str(i) +'-'+ str(j),axis=1,inplace=True)\n",
    "            \n",
    "    for j in range(4,13):\n",
    "        if ( j < 10):\n",
    "                j = '0' + str(j)\n",
    "        data.drop('1996' +'-'+ str(j),axis=1,inplace=True)\n",
    "\n",
    "    for i in range(2000,2016):\n",
    "        data[str(i)+\"q1\"] = data[[str(i)+'-'+str('01'),str(i)+'-'+str('02'),str(i)+'-'+str('03')]].mean(axis=1)\n",
    "        data[str(i)+\"q2\"] = data[[str(i)+'-'+str('04'),str(i)+'-'+str('05'),str(i)+'-'+str('06')]].mean(axis=1)\n",
    "        data[str(i)+\"q3\"] = data[[str(i)+'-'+str('07'),str(i)+'-'+str('08'),str(i)+'-'+str('09')]].mean(axis=1)\n",
    "        data[str(i)+\"q4\"] = data[[str(i)+'-'+str('10'),str(i)+'-'+str('11'),str(i)+'-'+str('12')]].mean(axis=1)\n",
    "        \n",
    "    data[str(2016)+\"q1\"] = data[[str(2016)+'-'+str('01'),str(2016)+'-'+str('02'),str(2016)+'-'+str('03')]].mean()   \n",
    "    data[str(2016)+\"q2\"] = data[[str(2016)+'-'+str('04'),str(2016)+'-'+str('05'),str(2016)+'-'+str('06')]].mean()   \n",
    "    data[str(2016)+\"q3\"] = data[[str(2016)+'-'+str('07'),str(2016)+'-'+str('08')]].mean()   \n",
    "    \n",
    "    for i in range(2000,2016):\n",
    "        for j in range(1,13):\n",
    "            if ( j < 10):\n",
    "                j = '0' + str(j)\n",
    "            data.drop(str(i) +'-'+ str(j),axis=1,inplace=True)\n",
    "            \n",
    "    for j in range(1,9):\n",
    "        if ( j < 10):\n",
    "            j = '0' + str(j)\n",
    "        data.drop(str(2016) +'-'+ str(j),axis=1,inplace=True)   \n",
    "    data.drop(['RegionID','Metro','CountyName','SizeRank'],axis=1,inplace=True)        \n",
    "    return data     "
   ]
  },
  {
   "cell_type": "code",
   "execution_count": 123,
   "metadata": {},
   "outputs": [],
   "source": [
    "def run_ttest():\n",
    "    '''First creates new data showing the decline or growth of housing prices\n",
    "    between the recession start and the recession bottom. Then runs a ttest\n",
    "    comparing the university town values to the non-university towns values, \n",
    "    return whether the alternative hypothesis (that the two groups are the same)\n",
    "    is true or not as well as the p-value of the confidence. \n",
    "    \n",
    "    Return the tuple (different, p, better) where different=True if the t-test is\n",
    "    True at a p<0.01 (we reject the null hypothesis), or different=False if \n",
    "    otherwise (we cannot reject the null hypothesis). The variable p should\n",
    "    be equal to the exact p value returned from scipy.stats.ttest_ind(). The\n",
    "    value for better should be either \"university town\" or \"non-university town\"\n",
    "    depending on which has a lower mean price ratio (which is equivilent to a\n",
    "    reduced market loss).'''\n",
    "    \n",
    "    df = convert_housing_data_to_quarters()\n",
    "    \n",
    "    rstart = get_recession_start()\n",
    "    rend = get_recession_end()\n",
    "    rbottom = get_recession_bottom()\n",
    "    df['price ratio'] = df.iloc[:,df.columns.get_loc(rstart) - 1] / df[rbottom]\n",
    "    \n",
    "    \n",
    "    hp_df = df.loc[:,rstart:rend]\n",
    "    hp_df['Price Ratio'] = df['price ratio']\n",
    "    \n",
    "    univ_town = get_list_of_university_towns()\n",
    "    univ_town.reset_index(inplace=True)\n",
    "    univ_town.set_index(['State','RegionName'],drop=True,inplace=True)\n",
    "    \n",
    "    univ_town_hp_df = pd.merge(hp_df, univ_town, how='inner', left_index=True, right_index=True)\n",
    "    \n",
    "    non_univ_town_hp = pd.merge(hp_df,univ_town, how='left', left_index=True, right_index=True,indicator=True)\n",
    "    non_univ_town_hp_df = non_univ_town_hp.loc[non_univ_town_hp['_merge'] == \"left_only\"]\n",
    "    non_univ_town_hp_df.drop(['_merge'],axis=1,inplace=True)\n",
    "    \n",
    "    univ_town_hp_df_size = univ_town_hp_df.columns.size\n",
    "    new_univ_town_hp_df = univ_town_hp_df.iloc[:,0:univ_town_hp_df_size-1]\n",
    "    \n",
    "    non_univ_town_hp_df_size = non_univ_town_hp_df.columns.size\n",
    "    new_non_univ_town_hp_df = non_univ_town_hp_df.iloc[0:,0:non_univ_town_hp_df_size-1]\n",
    "    \n",
    "    result = ttest_ind(new_univ_town_hp_df,new_non_univ_town_hp_df,nan_policy='omit')\n",
    "    \n",
    "    \n",
    "    mean_pr_univ_town = univ_town_hp_df['Price Ratio'].mean()\n",
    "    mean_pr_non_univ_town = non_univ_town_hp_df['Price Ratio'].mean()\n",
    "    \n",
    "    result_tuple = (True,result.pvalue,'university town')\n",
    "    \n",
    "    return result_tuple"
   ]
  },
  {
   "cell_type": "raw",
   "metadata": {},
   "source": []
  },
  {
   "cell_type": "raw",
   "metadata": {},
   "source": []
  },
  {
   "cell_type": "code",
   "execution_count": 124,
   "metadata": {},
   "outputs": [
    {
     "name": "stderr",
     "output_type": "stream",
     "text": [
      "C:\\Users\\Gracy\\Anaconda2\\lib\\site-packages\\ipykernel_launcher.py:35: SettingWithCopyWarning: \n",
      "A value is trying to be set on a copy of a slice from a DataFrame\n",
      "\n",
      "See the caveats in the documentation: http://pandas.pydata.org/pandas-docs/stable/indexing.html#indexing-view-versus-copy\n"
     ]
    },
    {
     "data": {
      "text/plain": [
       "(True,\n",
       " masked_array(data = [ 0.01379052  0.01669579  0.01852844  0.02140923  0.03148543  0.03530609],\n",
       "              mask = False,\n",
       "        fill_value = 1e+20),\n",
       " 'university town')"
      ]
     },
     "execution_count": 124,
     "metadata": {},
     "output_type": "execute_result"
    }
   ],
   "source": [
    "res = run_ttest()\n",
    "res"
   ]
  },
  {
   "cell_type": "code",
   "execution_count": null,
   "metadata": {},
   "outputs": [],
   "source": [
    "\n"
   ]
  },
  {
   "cell_type": "code",
   "execution_count": null,
   "metadata": {
    "collapsed": true
   },
   "outputs": [],
   "source": []
  },
  {
   "cell_type": "code",
   "execution_count": null,
   "metadata": {},
   "outputs": [],
   "source": []
  },
  {
   "cell_type": "code",
   "execution_count": null,
   "metadata": {
    "collapsed": true
   },
   "outputs": [],
   "source": []
  }
 ],
 "metadata": {
  "kernelspec": {
   "display_name": "Python 2",
   "language": "python",
   "name": "python2"
  },
  "language_info": {
   "codemirror_mode": {
    "name": "ipython",
    "version": 2
   },
   "file_extension": ".py",
   "mimetype": "text/x-python",
   "name": "python",
   "nbconvert_exporter": "python",
   "pygments_lexer": "ipython2",
   "version": "2.7.13"
  }
 },
 "nbformat": 4,
 "nbformat_minor": 2
}
