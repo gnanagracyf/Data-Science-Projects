{
 "cells": [
  {
   "cell_type": "code",
   "execution_count": 12,
   "metadata": {
    "scrolled": true
   },
   "outputs": [],
   "source": [
    "import pandas as pd\n",
    "import numpy as np\n",
    "energy = pd.read_csv('Energy Indicators.csv',skiprows=16,skipfooter=38,engine='python')\n",
    "energy.drop(energy.columns[[0,1]], axis=1,inplace=True)\n",
    "energy=energy.dropna(axis=1,how='all')\n",
    "\n",
    "for col in energy.columns:\n",
    "    if col[:]=='Energy Supply per capita':\n",
    "        energy.rename(columns={col:'Energy Supply per Capita'},inplace=True)\n",
    "    if col[:]=='Renewable Electricity Production':\n",
    "        energy.rename(columns={col:'% Renewable'},inplace=True)\n",
    "    energy.rename(columns={ energy.columns[0]: \"Country\" },inplace=True)\n",
    "    \n",
    "energy.dropna(subset=['Country'], how = 'all',inplace=True)\n",
    "\n",
    "#replace empty values with Nan\n",
    "energy[['Energy Supply','Energy Supply per Capita','% Renewable']] = energy[['Energy Supply','Energy Supply per Capita','% Renewable']].apply(pd.to_numeric,errors='coerce')      \n",
    "energy['Energy Supply'] = energy['Energy Supply'].apply(lambda x:x*1000000)\n",
    "\n",
    "energy['Country'].replace(\n",
    "    to_replace=['United States of America20','United States Virgin Islands','Bolivia (Plurinational State of)',\n",
    "               'China2','China, Hong Kong Special Administrative Region3','China, Macao Special Administrative Region4',\n",
    "               'Denmark5','France6','Greenland7','Indonesia8','Iran (Islamic Republic of)','Italy9',\n",
    "               'Japan10','Kuwait11','Micronesia (Federated States of)','Netherlands12','Portugal13','Saudi Arabia14',\n",
    "               'Serbia15','Ukraine18','Venezuela (Bolivarian Republic of)','United Kingdom of Great Britain and Northern Ireland19'],\n",
    "    value=['United States','United Virgin','Bolivia','China','Hong Kong','China, Macao Special Administrative Region',\n",
    "          'Denmark','France','Greenland','Indonesia','Iran','Italy','Japan','Kuwait','Micronesia','Netherlands',\n",
    "          'Portugal','Saudi Arabia','Serbia','Ukraine','Venezuela','United Kingdom'],\n",
    "    inplace=True\n",
    ")\n",
    "\n",
    "\n",
    "GDP = pd.read_csv('world_bank.csv',skiprows=4)\n",
    "GDP['Country Name'].replace(\n",
    "    to_replace=['Korea, Rep.','Iran, Islamic Rep.','Hong Kong SAR, China'],\n",
    "    value=['South Korea','Iran','Hong Kong'],\n",
    "    inplace=True\n",
    ")\n",
    "GDP.dropna(axis=1,how='all',inplace=True)\n",
    "\n",
    "ScimEn = pd.read_csv(\"scimagojr.csv\")\n",
    "\n",
    "energy = energy.set_index('Country')\n",
    "GDP = GDP.set_index('Country Name')\n",
    "ScimEn = ScimEn.set_index('Country')\n",
    "\n",
    "intermediate_merge = pd.merge(energy,  GDP , how='outer', left_index=True, right_index=True)\n",
    "final_merge = pd.merge(intermediate_merge,  ScimEn, how = 'outer' , left_index=True, right_index=True).sort_values(['Rank'],ascending=True)\n",
    "\n",
    "for i in range(1960,2005):\n",
    "    final_merge.drop(str(i),axis=1,inplace=True)\n",
    "    \n",
    "final_merge.head(15)\n",
    "\n",
    "cols = ['Rank', 'Documents', 'Citable documents', 'Citations', 'Self-citations', 'Citations per document', 'H index', 'Energy Supply', 'Energy Supply per Capita', '% Renewable', '2006', '2007', '2008', '2009', '2010', '2011', '2012', '2013', '2014', '2015']\n",
    "final_merge = final_merge[cols]\n",
    "\n",
    "result_df = final_merge.head(15)"
   ]
  },
  {
   "cell_type": "code",
   "execution_count": 13,
   "metadata": {},
   "outputs": [
    {
     "data": {
      "text/plain": [
       "Index([u'Rank', u'Documents', u'Citable documents', u'Citations',\n",
       "       u'Self-citations', u'Citations per document', u'H index',\n",
       "       u'Energy Supply', u'Energy Supply per Capita', u'% Renewable', u'2006',\n",
       "       u'2007', u'2008', u'2009', u'2010', u'2011', u'2012', u'2013', u'2014',\n",
       "       u'2015'],\n",
       "      dtype='object')"
      ]
     },
     "execution_count": 13,
     "metadata": {},
     "output_type": "execute_result"
    }
   ],
   "source": [
    "result_df.columns"
   ]
  },
  {
   "cell_type": "code",
   "execution_count": 3,
   "metadata": {
    "collapsed": true
   },
   "outputs": [],
   "source": [
    "def answer_three():\n",
    "    Top15 = final_merge.head(15)\n",
    "   \n",
    "    return Top15[['2006', '2007', '2008', '2009', '2010', '2011', '2012', '2013',\n",
    "       '2014', '2015']].mean(axis=1).sort_values(ascending=False)"
   ]
  },
  {
   "cell_type": "code",
   "execution_count": 4,
   "metadata": {},
   "outputs": [
    {
     "data": {
      "text/plain": [
       "United States         1.562297e+13\n",
       "China                 6.940046e+12\n",
       "Japan                 5.176323e+12\n",
       "Germany               3.532694e+12\n",
       "United Kingdom        2.724782e+12\n",
       "France                2.688773e+12\n",
       "Italy                 2.130288e+12\n",
       "Brazil                1.989028e+12\n",
       "Russian Federation    1.656010e+12\n",
       "Canada                1.611540e+12\n",
       "India                 1.594349e+12\n",
       "Spain                 1.406409e+12\n",
       "Australia             1.202763e+12\n",
       "South Korea           1.165810e+12\n",
       "Iran                  4.369708e+11\n",
       "dtype: float64"
      ]
     },
     "execution_count": 4,
     "metadata": {},
     "output_type": "execute_result"
    }
   ],
   "source": [
    "answer_three()\n"
   ]
  },
  {
   "cell_type": "code",
   "execution_count": 10,
   "metadata": {
    "collapsed": true
   },
   "outputs": [],
   "source": [
    "def answer_four():\n",
    "    Top15 = final_merge.head(15)\n",
    "    avgGDP = answer_three()\n",
    "    avgGDP = avgGDP.to_frame().rename(columns= {0: 'AvgGDP'})\n",
    "    final_df = pd.merge(GDP,avgGDP,how=\"outer\",left_index=True, right_index=True).sort_values(['AvgGDP'],ascending=False)\n",
    "    final_df = final_df[5:6]    \n",
    "    return final_df['2016'].values[0] - final_df['2006'].values[0]\n",
    "    "
   ]
  },
  {
   "cell_type": "code",
   "execution_count": 11,
   "metadata": {},
   "outputs": [
    {
     "data": {
      "text/plain": [
       "140442057078.75"
      ]
     },
     "execution_count": 11,
     "metadata": {},
     "output_type": "execute_result"
    }
   ],
   "source": [
    "answer_four()"
   ]
  },
  {
   "cell_type": "code",
   "execution_count": 14,
   "metadata": {},
   "outputs": [
    {
     "data": {
      "text/plain": [
       "150.5"
      ]
     },
     "execution_count": 14,
     "metadata": {},
     "output_type": "execute_result"
    }
   ],
   "source": [
    "result_df[['Energy Supply per Capita']].mean().values[0]"
   ]
  },
  {
   "cell_type": "code",
   "execution_count": 21,
   "metadata": {
    "collapsed": true
   },
   "outputs": [],
   "source": [
    "def answer_six():\n",
    "    Top15 = final_merge.head(15)\n",
    "    df = Top15.loc[Top15['% Renewable'] ==  Top15[['% Renewable']].max().values[0]]\n",
    "    df = pd.DataFrame(df['% Renewable'])   # convert to dataframe as we need tuples as return value\n",
    "    return tuple(df.to_records().tolist())"
   ]
  },
  {
   "cell_type": "code",
   "execution_count": 20,
   "metadata": {},
   "outputs": [
    {
     "data": {
      "text/plain": [
       "(('Brazil', 69.65),)"
      ]
     },
     "execution_count": 20,
     "metadata": {},
     "output_type": "execute_result"
    }
   ],
   "source": [
    "answer_six()"
   ]
  },
  {
   "cell_type": "code",
   "execution_count": null,
   "metadata": {
    "collapsed": true
   },
   "outputs": [],
   "source": []
  }
 ],
 "metadata": {
  "kernelspec": {
   "display_name": "Python 2",
   "language": "python",
   "name": "python2"
  },
  "language_info": {
   "codemirror_mode": {
    "name": "ipython",
    "version": 2
   },
   "file_extension": ".py",
   "mimetype": "text/x-python",
   "name": "python",
   "nbconvert_exporter": "python",
   "pygments_lexer": "ipython2",
   "version": "2.7.13"
  }
 },
 "nbformat": 4,
 "nbformat_minor": 2
}
