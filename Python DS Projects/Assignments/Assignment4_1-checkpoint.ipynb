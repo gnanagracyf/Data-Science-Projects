{
 "cells": [
  {
   "cell_type": "code",
   "execution_count": 1,
   "metadata": {
    "collapsed": true
   },
   "outputs": [],
   "source": [
    "%matplotlib notebook"
   ]
  },
  {
   "cell_type": "code",
   "execution_count": 2,
   "metadata": {
    "collapsed": true
   },
   "outputs": [],
   "source": [
    "import pandas as pd\n",
    "import numpy as np"
   ]
  },
  {
   "cell_type": "code",
   "execution_count": 4,
   "metadata": {},
   "outputs": [],
   "source": [
    "df = pd.read_csv('ODN_Education.csv')"
   ]
  },
  {
   "cell_type": "code",
   "execution_count": 16,
   "metadata": {},
   "outputs": [
    {
     "data": {
      "text/plain": [
       "array(['Bruning village, Nebraska', 'Westlake city, Louisiana',\n",
       "       'Low Moor CDP, Virginia', ..., '60152 ZIP Code', '93726 ZIP Code',\n",
       "       'Fieldbrook CDP, California'], dtype=object)"
      ]
     },
     "execution_count": 16,
     "metadata": {},
     "output_type": "execute_result"
    }
   ],
   "source": [
    "state = df['name'].unique()\n",
    "state"
   ]
  },
  {
   "cell_type": "code",
   "execution_count": 55,
   "metadata": {},
   "outputs": [
    {
     "data": {
      "text/plain": [
       "year\n",
       "2010    1.644357e+10\n",
       "2011    1.636678e+10\n",
       "2012    1.659623e+10\n",
       "2013    1.606808e+10\n",
       "2014    1.652964e+10\n",
       "2015    1.950883e+10\n",
       "2016    1.723272e+10\n",
       "Name: value, dtype: float64"
      ]
     },
     "execution_count": 55,
     "metadata": {},
     "output_type": "execute_result"
    }
   ],
   "source": [
    "df1 = pd.read_csv('Financial_Metrics.csv')\n",
    "df1 = df1.loc[(df1['variable'] == 'total_general_fund_revenue') | (df1['variable'] == 'total_general_fund_revenues')]\n",
    "df1 = df1.groupby('year').sum()\n",
    "df1 = df1['value']\n",
    "df1"
   ]
  },
  {
   "cell_type": "code",
   "execution_count": null,
   "metadata": {},
   "outputs": [],
   "source": [
    "import pandas as pd\n",
    "import numpy as np\n",
    "import matplotlib.pyplot as plt\n",
    "\n",
    "%matplotlib notebook\n",
    "# use the 'seaborn-colorblind' style\n",
    "plt.style.use('seaborn-colorblind')\n",
    "df1.plot();"
   ]
  },
  {
   "cell_type": "markdown",
   "metadata": {},
   "source": [
    "df1.head()"
   ]
  },
  {
   "cell_type": "code",
   "execution_count": 18,
   "metadata": {
    "collapsed": true
   },
   "outputs": [],
   "source": [
    "df2 = pd.read_csv('Yearly_Unemployment_Rate.csv')"
   ]
  },
  {
   "cell_type": "code",
   "execution_count": 21,
   "metadata": {},
   "outputs": [
    {
     "data": {
      "text/plain": [
       "Date                                                                                                  01/01/2010 12:00:00 AM\n",
       "Year                                                                                                                    2010\n",
       "School Year                                                                                                          2010-11\n",
       "Year Range                                                                                                           2010-11\n",
       "Monthly Total Jobs                                                                                                       NaN\n",
       "Yearly Total Jobs                                                                                                 3.8636e+06\n",
       "Average Private Sector Pay                                                                                         $43598.00\n",
       "Number of People Moving into Michigan                                                                                 116149\n",
       "Number of People Moving out of Michigan                                                                               178207\n",
       "Michigan Net Population migration (in/out)                                                                            -62058\n",
       "Michigan Unemployment                                                                                                  12.6%\n",
       "U.S. Unemployment                                                                                                       9.6%\n",
       "Michigan Monthly Unemployment                                                                                            NaN\n",
       "U.S. Monthly Unemployment                                                                                                NaN\n",
       "Michigan Veteran Unemployment Rate                                                                                     15.9%\n",
       "U.S. Veteran Unemployment Rate                                                                                          8.7%\n",
       "Total Payroll                                                                                                     3.8636e+06\n",
       "Total Private Payroll                                                                                              3.228e+06\n",
       "Private Employment as a Percentage of Total Nonfarm Employment (Total Private/Total Payroll) x 100                     83.5%\n",
       "New Businesses                                                                                                         63531\n",
       "Michigan New Business Survival Rate                                                                                    68.6%\n",
       "U.S. New Business Survival Rate                                                                                        68.6%\n",
       "Patents Issued                                                                                                          4277\n",
       "Michigan Adults Who Regularly Telework                                                                                   17%\n",
       "Persons Obtaining Legal Permanent Resident Status                                                                      18579\n",
       "International Students Studying in Michigan                                                                            24668\n",
       "Michigan Students Studying Abroad                                                                                       8949\n",
       "Science, Technology, Engineering and Mathematics (STEM) Graduates                                                      23405\n",
       "New Apprenticeships                                                                                                     2344\n",
       "Career Technical Education Placement                                                                                   94.4%\n",
       "Internships Posted Monthly                                                                                               NaN\n",
       "Welfare to Work Participation Rate                                                                                     22.8%\n",
       "Name: 0, dtype: object"
      ]
     },
     "execution_count": 21,
     "metadata": {},
     "output_type": "execute_result"
    }
   ],
   "source": [
    "df2.iloc[0]"
   ]
  },
  {
   "cell_type": "code",
   "execution_count": null,
   "metadata": {
    "collapsed": true
   },
   "outputs": [],
   "source": []
  }
 ],
 "metadata": {
  "kernelspec": {
   "display_name": "Python 2",
   "language": "python",
   "name": "python2"
  },
  "language_info": {
   "codemirror_mode": {
    "name": "ipython",
    "version": 2
   },
   "file_extension": ".py",
   "mimetype": "text/x-python",
   "name": "python",
   "nbconvert_exporter": "python",
   "pygments_lexer": "ipython2",
   "version": "2.7.13"
  }
 },
 "nbformat": 4,
 "nbformat_minor": 2
}
