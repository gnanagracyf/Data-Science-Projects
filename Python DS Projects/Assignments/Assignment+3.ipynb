{
 "cells": [
  {
   "cell_type": "markdown",
   "metadata": {},
   "source": [
    "---\n",
    "\n",
    "_You are currently looking at **version 1.2** of this notebook. To download notebooks and datafiles, as well as get help on Jupyter notebooks in the Coursera platform, visit the [Jupyter Notebook FAQ](https://www.coursera.org/learn/python-social-network-analysis/resources/yPcBs) course resource._\n",
    "\n",
    "---"
   ]
  },
  {
   "cell_type": "markdown",
   "metadata": {},
   "source": [
    "# Assignment 3\n",
    "\n",
    "In this assignment you will explore measures of centrality on two networks, a friendship network in Part 1, and a blog network in Part 2."
   ]
  },
  {
   "cell_type": "markdown",
   "metadata": {},
   "source": [
    "## Part 1\n",
    "\n",
    "Answer questions 1-4 using the network `G1`, a network of friendships at a university department. Each node corresponds to a person, and an edge indicates friendship. \n",
    "\n",
    "*The network has been loaded as networkx graph object `G1`.*"
   ]
  },
  {
   "cell_type": "code",
   "execution_count": 3,
   "metadata": {},
   "outputs": [
    {
     "data": {
      "text/plain": [
       "sys.version_info(major=3, minor=5, micro=4, releaselevel='final', serial=0)"
      ]
     },
     "execution_count": 3,
     "metadata": {},
     "output_type": "execute_result"
    }
   ],
   "source": [
    "import sys\n",
    "sys.version\n",
    "sys.version_info"
   ]
  },
  {
   "cell_type": "code",
   "execution_count": 4,
   "metadata": {},
   "outputs": [
    {
     "name": "stdout",
     "output_type": "stream",
     "text": [
      "3.5.4\n"
     ]
    }
   ],
   "source": [
    "import platform\n",
    " \n",
    "print(platform.python_version())\n"
   ]
  },
  {
   "cell_type": "code",
   "execution_count": 7,
   "metadata": {},
   "outputs": [
    {
     "data": {
      "text/plain": [
       "['types', 'sys', 'networkx', 'builtins', 'platform', 'builtins']"
      ]
     },
     "execution_count": 7,
     "metadata": {},
     "output_type": "execute_result"
    }
   ],
   "source": [
    "import types\n",
    "def imports():\n",
    "    for name, val in globals().items():\n",
    "        if isinstance(val, types.ModuleType):\n",
    "            yield val.__name__\n",
    "list(imports())"
   ]
  },
  {
   "cell_type": "code",
   "execution_count": 2,
   "metadata": {},
   "outputs": [
    {
     "ename": "NetworkXError",
     "evalue": "cannot tokenize '<!DOCTYPE HTML>' at (1, 1)",
     "output_type": "error",
     "traceback": [
      "\u001b[1;31m---------------------------------------------------------------------------\u001b[0m",
      "\u001b[1;31mNetworkXError\u001b[0m                             Traceback (most recent call last)",
      "\u001b[1;32m<ipython-input-2-c0e3f5e41d61>\u001b[0m in \u001b[0;36m<module>\u001b[1;34m()\u001b[0m\n\u001b[0;32m      1\u001b[0m \u001b[1;32mimport\u001b[0m \u001b[0mnetworkx\u001b[0m \u001b[1;32mas\u001b[0m \u001b[0mnx\u001b[0m\u001b[1;33m\u001b[0m\u001b[0m\n\u001b[0;32m      2\u001b[0m \u001b[1;33m\u001b[0m\u001b[0m\n\u001b[1;32m----> 3\u001b[1;33m \u001b[0mG1\u001b[0m \u001b[1;33m=\u001b[0m \u001b[0mnx\u001b[0m\u001b[1;33m.\u001b[0m\u001b[0mread_gml\u001b[0m\u001b[1;33m(\u001b[0m\u001b[1;34m'friendships.gml'\u001b[0m\u001b[1;33m)\u001b[0m\u001b[1;33m\u001b[0m\u001b[0m\n\u001b[0m",
      "\u001b[1;32m<decorator-gen-323>\u001b[0m in \u001b[0;36mread_gml\u001b[1;34m(path, label, destringizer)\u001b[0m\n",
      "\u001b[1;32m~\\Anaconda2\\envs\\myenv\\lib\\site-packages\\networkx\\utils\\decorators.py\u001b[0m in \u001b[0;36m_open_file\u001b[1;34m(func, *args, **kwargs)\u001b[0m\n\u001b[0;32m    218\u001b[0m         \u001b[1;31m# Finally, we call the original function, making sure to close the fobj.\u001b[0m\u001b[1;33m\u001b[0m\u001b[1;33m\u001b[0m\u001b[0m\n\u001b[0;32m    219\u001b[0m         \u001b[1;32mtry\u001b[0m\u001b[1;33m:\u001b[0m\u001b[1;33m\u001b[0m\u001b[0m\n\u001b[1;32m--> 220\u001b[1;33m             \u001b[0mresult\u001b[0m \u001b[1;33m=\u001b[0m \u001b[0mfunc\u001b[0m\u001b[1;33m(\u001b[0m\u001b[1;33m*\u001b[0m\u001b[0mnew_args\u001b[0m\u001b[1;33m,\u001b[0m \u001b[1;33m**\u001b[0m\u001b[0mkwargs\u001b[0m\u001b[1;33m)\u001b[0m\u001b[1;33m\u001b[0m\u001b[0m\n\u001b[0m\u001b[0;32m    221\u001b[0m         \u001b[1;32mfinally\u001b[0m\u001b[1;33m:\u001b[0m\u001b[1;33m\u001b[0m\u001b[0m\n\u001b[0;32m    222\u001b[0m             \u001b[1;32mif\u001b[0m \u001b[0mclose_fobj\u001b[0m\u001b[1;33m:\u001b[0m\u001b[1;33m\u001b[0m\u001b[0m\n",
      "\u001b[1;32m~\\Anaconda2\\envs\\myenv\\lib\\site-packages\\networkx\\readwrite\\gml.py\u001b[0m in \u001b[0;36mread_gml\u001b[1;34m(path, label, destringizer)\u001b[0m\n\u001b[0;32m    208\u001b[0m             \u001b[1;32myield\u001b[0m \u001b[0mline\u001b[0m\u001b[1;33m\u001b[0m\u001b[0m\n\u001b[0;32m    209\u001b[0m \u001b[1;33m\u001b[0m\u001b[0m\n\u001b[1;32m--> 210\u001b[1;33m     \u001b[0mG\u001b[0m \u001b[1;33m=\u001b[0m \u001b[0mparse_gml_lines\u001b[0m\u001b[1;33m(\u001b[0m\u001b[0mfilter_lines\u001b[0m\u001b[1;33m(\u001b[0m\u001b[0mpath\u001b[0m\u001b[1;33m)\u001b[0m\u001b[1;33m,\u001b[0m \u001b[0mlabel\u001b[0m\u001b[1;33m,\u001b[0m \u001b[0mdestringizer\u001b[0m\u001b[1;33m)\u001b[0m\u001b[1;33m\u001b[0m\u001b[0m\n\u001b[0m\u001b[0;32m    211\u001b[0m     \u001b[1;32mreturn\u001b[0m \u001b[0mG\u001b[0m\u001b[1;33m\u001b[0m\u001b[0m\n\u001b[0;32m    212\u001b[0m \u001b[1;33m\u001b[0m\u001b[0m\n",
      "\u001b[1;32m~\\Anaconda2\\envs\\myenv\\lib\\site-packages\\networkx\\readwrite\\gml.py\u001b[0m in \u001b[0;36mparse_gml_lines\u001b[1;34m(lines, label, destringizer)\u001b[0m\n\u001b[0;32m    381\u001b[0m \u001b[1;33m\u001b[0m\u001b[0m\n\u001b[0;32m    382\u001b[0m     \u001b[0mtokens\u001b[0m \u001b[1;33m=\u001b[0m \u001b[0mtokenize\u001b[0m\u001b[1;33m(\u001b[0m\u001b[1;33m)\u001b[0m\u001b[1;33m\u001b[0m\u001b[0m\n\u001b[1;32m--> 383\u001b[1;33m     \u001b[0mgraph\u001b[0m \u001b[1;33m=\u001b[0m \u001b[0mparse_graph\u001b[0m\u001b[1;33m(\u001b[0m\u001b[1;33m)\u001b[0m\u001b[1;33m\u001b[0m\u001b[0m\n\u001b[0m\u001b[0;32m    384\u001b[0m \u001b[1;33m\u001b[0m\u001b[0m\n\u001b[0;32m    385\u001b[0m     \u001b[0mdirected\u001b[0m \u001b[1;33m=\u001b[0m \u001b[0mgraph\u001b[0m\u001b[1;33m.\u001b[0m\u001b[0mpop\u001b[0m\u001b[1;33m(\u001b[0m\u001b[1;34m'directed'\u001b[0m\u001b[1;33m,\u001b[0m \u001b[1;32mFalse\u001b[0m\u001b[1;33m)\u001b[0m\u001b[1;33m\u001b[0m\u001b[0m\n",
      "\u001b[1;32m~\\Anaconda2\\envs\\myenv\\lib\\site-packages\\networkx\\readwrite\\gml.py\u001b[0m in \u001b[0;36mparse_graph\u001b[1;34m()\u001b[0m\n\u001b[0;32m    370\u001b[0m \u001b[1;33m\u001b[0m\u001b[0m\n\u001b[0;32m    371\u001b[0m     \u001b[1;32mdef\u001b[0m \u001b[0mparse_graph\u001b[0m\u001b[1;33m(\u001b[0m\u001b[1;33m)\u001b[0m\u001b[1;33m:\u001b[0m\u001b[1;33m\u001b[0m\u001b[0m\n\u001b[1;32m--> 372\u001b[1;33m         \u001b[0mcurr_token\u001b[0m\u001b[1;33m,\u001b[0m \u001b[0mdct\u001b[0m \u001b[1;33m=\u001b[0m \u001b[0mparse_kv\u001b[0m\u001b[1;33m(\u001b[0m\u001b[0mnext\u001b[0m\u001b[1;33m(\u001b[0m\u001b[0mtokens\u001b[0m\u001b[1;33m)\u001b[0m\u001b[1;33m)\u001b[0m\u001b[1;33m\u001b[0m\u001b[0m\n\u001b[0m\u001b[0;32m    373\u001b[0m         \u001b[1;32mif\u001b[0m \u001b[0mcurr_token\u001b[0m\u001b[1;33m[\u001b[0m\u001b[1;36m0\u001b[0m\u001b[1;33m]\u001b[0m \u001b[1;32mis\u001b[0m \u001b[1;32mnot\u001b[0m \u001b[1;32mNone\u001b[0m\u001b[1;33m:\u001b[0m  \u001b[1;31m# EOF\u001b[0m\u001b[1;33m\u001b[0m\u001b[0m\n\u001b[0;32m    374\u001b[0m             \u001b[0munexpected\u001b[0m\u001b[1;33m(\u001b[0m\u001b[0mcurr_token\u001b[0m\u001b[1;33m,\u001b[0m \u001b[1;34m'EOF'\u001b[0m\u001b[1;33m)\u001b[0m\u001b[1;33m\u001b[0m\u001b[0m\n",
      "\u001b[1;32m~\\Anaconda2\\envs\\myenv\\lib\\site-packages\\networkx\\readwrite\\gml.py\u001b[0m in \u001b[0;36mtokenize\u001b[1;34m()\u001b[0m\n\u001b[0;32m    321\u001b[0m                 \u001b[1;32melse\u001b[0m\u001b[1;33m:\u001b[0m\u001b[1;33m\u001b[0m\u001b[0m\n\u001b[0;32m    322\u001b[0m                     raise NetworkXError('cannot tokenize %r at (%d, %d)' %\n\u001b[1;32m--> 323\u001b[1;33m                                         (line[pos:], lineno + 1, pos + 1))\n\u001b[0m\u001b[0;32m    324\u001b[0m             \u001b[0mlineno\u001b[0m \u001b[1;33m+=\u001b[0m \u001b[1;36m1\u001b[0m\u001b[1;33m\u001b[0m\u001b[0m\n\u001b[0;32m    325\u001b[0m         \u001b[1;32myield\u001b[0m \u001b[1;33m(\u001b[0m\u001b[1;32mNone\u001b[0m\u001b[1;33m,\u001b[0m \u001b[1;32mNone\u001b[0m\u001b[1;33m,\u001b[0m \u001b[0mlineno\u001b[0m \u001b[1;33m+\u001b[0m \u001b[1;36m1\u001b[0m\u001b[1;33m,\u001b[0m \u001b[1;36m1\u001b[0m\u001b[1;33m)\u001b[0m  \u001b[1;31m# EOF\u001b[0m\u001b[1;33m\u001b[0m\u001b[0m\n",
      "\u001b[1;31mNetworkXError\u001b[0m: cannot tokenize '<!DOCTYPE HTML>' at (1, 1)"
     ]
    }
   ],
   "source": [
    "import networkx as nx\n",
    "\n",
    "G1 = nx.read_gml('friendships.gml')"
   ]
  },
  {
   "cell_type": "code",
   "execution_count": 1,
   "metadata": {},
   "outputs": [
    {
     "name": "stdout",
     "output_type": "stream",
     "text": [
      "wincertstore 0.2\n",
      "win-unicode-console 0.5\n",
      "win-inet-pton 1.0.1\n",
      "widgetsnbextension 3.0.2\n",
      "wheel 0.29.0\n",
      "webencodings 0.5.1\n",
      "wcwidth 0.1.7\n",
      "urllib3 1.22\n",
      "traitlets 4.3.2\n",
      "tornado 4.5.2\n",
      "testpath 0.3.1\n",
      "stop-words 2015.2.23.1\n",
      "smart-open 1.5.3\n",
      "six 1.11.0\n",
      "simplegeneric 0.8.1\n",
      "setuptools 36.5.0.post20170921\n",
      "scipy 1.0.0\n",
      "scikit-learn 0.19.1\n",
      "requests 2.18.4\n",
      "qtconsole 4.3.1\n",
      "pyzmq 16.0.2\n",
      "pytz 2017.2\n",
      "python-dateutil 2.6.1\n",
      "PySocks 1.6.7\n",
      "pyparsing 2.2.0\n",
      "pyOpenSSL 17.2.0\n",
      "Pygments 2.2.0\n",
      "pycparser 2.18\n",
      "prompt-toolkit 1.0.15\n",
      "pip 9.0.1\n",
      "pickleshare 0.7.4\n",
      "pandocfilters 1.4.2\n",
      "pandas 0.21.0\n",
      "numpy 1.13.3\n",
      "notebook 5.2.1\n",
      "nltk 3.2.4\n",
      "networkx 1.11\n",
      "nbformat 4.4.0\n",
      "nbconvert 5.3.1\n",
      "mistune 0.8.1\n",
      "matplotlib 2.1.0\n",
      "MarkupSafe 1.0\n",
      "jupyter-core 4.3.0\n",
      "jupyter-console 5.2.0\n",
      "jupyter-client 5.1.0\n",
      "jsonschema 2.6.0\n",
      "Jinja2 2.9.6\n",
      "jedi 0.10.2\n",
      "ipywidgets 7.0.0\n",
      "ipython 6.1.0\n",
      "ipython-genutils 0.2.0\n",
      "ipykernel 4.6.1\n",
      "idna 2.6\n",
      "html5lib 0.999999999\n",
      "gensim 3.0.1\n",
      "entrypoints 0.2.3\n",
      "decorator 4.1.2\n",
      "cycler 0.10.0\n",
      "cryptography 2.0.3\n",
      "colorama 0.3.9\n",
      "chardet 3.0.4\n",
      "cffi 1.10.0\n",
      "certifi 2017.7.27.1\n",
      "bz2file 0.98\n",
      "boto 2.48.0\n",
      "bleach 2.0.0\n",
      "asn1crypto 0.22.0\n"
     ]
    }
   ],
   "source": [
    "import pip #needed to use the pip functions\n",
    "for i in pip.get_installed_distributions(local_only=True):\n",
    "    print(i)\n"
   ]
  },
  {
   "cell_type": "code",
   "execution_count": 12,
   "metadata": {},
   "outputs": [
    {
     "data": {
      "text/plain": [
       "<networkx.classes.graph.Graph at 0x1fabcbba908>"
      ]
     },
     "execution_count": 12,
     "metadata": {},
     "output_type": "execute_result"
    }
   ],
   "source": [
    "G = nx.karate_club_graph()\n",
    "nx.convert_node_labels_to_integers(G,first_label=1)\n"
   ]
  },
  {
   "cell_type": "markdown",
   "metadata": {},
   "source": [
    "### Question 1\n",
    "\n",
    "Find the degree centrality, closeness centrality, and normalized betweeness centrality (excluding endpoints) of node 100.\n",
    "\n",
    "*This function should return a tuple of floats `(degree_centrality, closeness_centrality, betweenness_centrality)`.*"
   ]
  },
  {
   "cell_type": "code",
   "execution_count": 20,
   "metadata": {},
   "outputs": [],
   "source": [
    "def answer_one():\n",
    "        \n",
    "    # Your Code Here\n",
    "    degCent = nx.degree_centrality(G)\n",
    "    closeCent = nx.closeness_centrality(G)\n",
    "    betweenCent = nx.betweenness_centrality(G, normalized=True,endpoints=False)\n",
    "    return (degCent[2],closeCent[2],betweenCent[2])"
   ]
  },
  {
   "cell_type": "code",
   "execution_count": 21,
   "metadata": {},
   "outputs": [
    {
     "data": {
      "text/plain": [
       "(0.30303030303030304, 0.559322033898305, 0.14365680615680618)"
      ]
     },
     "execution_count": 21,
     "metadata": {},
     "output_type": "execute_result"
    }
   ],
   "source": [
    "answer_one()"
   ]
  },
  {
   "cell_type": "markdown",
   "metadata": {},
   "source": [
    "<br>\n",
    "#### For Questions 2, 3, and 4, assume that you do not know anything about the structure of the network, except for the all the centrality values of the nodes. That is, use one of the covered centrality measures to rank the nodes and find the most appropriate candidate.\n",
    "<br>"
   ]
  },
  {
   "cell_type": "markdown",
   "metadata": {},
   "source": [
    "### Question 2\n",
    "\n",
    "Suppose you are employed by an online shopping website and are tasked with selecting one user in network G1 to send an online shopping voucher to. We expect that the user who receives the voucher will send it to their friends in the network.  You want the voucher to reach as many nodes as possible. The voucher can be forwarded to multiple users at the same time, but the travel distance of the voucher is limited to one step, which means if the voucher travels more than one step in this network, it is no longer valid. Apply your knowledge in network centrality to select the best candidate for the voucher. \n",
    "\n",
    "*This function should return an integer, the name of the node.*"
   ]
  },
  {
   "cell_type": "code",
   "execution_count": 49,
   "metadata": {
    "scrolled": true
   },
   "outputs": [],
   "source": [
    "import pandas as pd\n",
    "def answer_two():\n",
    "        \n",
    "    # Your Code Here\n",
    "    degCent = nx.degree_centrality(G)\n",
    "    df = pd.DataFrame.from_dict(list(degCent.items()))\n",
    "    res = df[df[1] == max(df[1])]\n",
    "    return res.iloc[0][0].astype(int)"
   ]
  },
  {
   "cell_type": "code",
   "execution_count": 50,
   "metadata": {},
   "outputs": [
    {
     "data": {
      "text/plain": [
       "33"
      ]
     },
     "execution_count": 50,
     "metadata": {},
     "output_type": "execute_result"
    }
   ],
   "source": [
    "answer_two()"
   ]
  },
  {
   "cell_type": "markdown",
   "metadata": {},
   "source": [
    "### Question 3\n",
    "\n",
    "Now the limit of the voucher’s travel distance has been removed. Because the network is connected, regardless of who you pick, every node in the network will eventually receive the voucher. However, we now want to ensure that the voucher reaches the nodes in the lowest average number of hops.\n",
    "\n",
    "How would you change your selection strategy? Write a function to tell us who is the best candidate in the network under this condition.\n",
    "\n",
    "*This function should return an integer, the name of the node.*"
   ]
  },
  {
   "cell_type": "code",
   "execution_count": 55,
   "metadata": {
    "scrolled": false
   },
   "outputs": [],
   "source": [
    "def answer_three():\n",
    "        \n",
    "    # Your Code Here\n",
    "    closeCent = nx.closeness_centrality(G)\n",
    "    df = pd.DataFrame.from_dict(list(closeCent.items()))\n",
    "    res = df[df[1] == max(df[1])]\n",
    "    #return res.iloc[0][0].astype(int)\n",
    "    return df"
   ]
  },
  {
   "cell_type": "code",
   "execution_count": null,
   "metadata": {},
   "outputs": [],
   "source": []
  },
  {
   "cell_type": "markdown",
   "metadata": {},
   "source": [
    "### Question 4\n",
    "\n",
    "Assume the restriction on the voucher’s travel distance is still removed, but now a competitor has developed a strategy to remove a person from the network in order to disrupt the distribution of your company’s voucher. Your competitor is specifically targeting people who are often bridges of information flow between other pairs of people. Identify the single riskiest person to be removed under your competitor’s strategy?\n",
    "\n",
    "*This function should return an integer, the name of the node.*"
   ]
  },
  {
   "cell_type": "code",
   "execution_count": 71,
   "metadata": {},
   "outputs": [],
   "source": [
    "import operator\n",
    "def answer_four():\n",
    "        \n",
    "    # Your Code Here\n",
    "    betweenCent = nx.betweenness_centrality(G, normalized=True,endpoints=False)\n",
    "    #return sorted(betweenCent.items(),key=operator.itemgetter(1),reverse=True)[0:5]\n",
    "    return sorted(betweenCent.items(),key=operator.itemgetter(1),reverse=True)[0][0]"
   ]
  },
  {
   "cell_type": "code",
   "execution_count": 72,
   "metadata": {},
   "outputs": [
    {
     "data": {
      "text/plain": [
       "0"
      ]
     },
     "execution_count": 72,
     "metadata": {},
     "output_type": "execute_result"
    }
   ],
   "source": [
    "answer_four()"
   ]
  },
  {
   "cell_type": "markdown",
   "metadata": {
    "collapsed": true
   },
   "source": [
    "## Part 2\n",
    "\n",
    "`G2` is a directed network of political blogs, where nodes correspond to a blog and edges correspond to links between blogs. Use your knowledge of PageRank and HITS to answer Questions 5-9."
   ]
  },
  {
   "cell_type": "code",
   "execution_count": 74,
   "metadata": {},
   "outputs": [
    {
     "ename": "NetworkXError",
     "evalue": "cannot tokenize '<!DOCTYPE HTML>' at (1, 1)",
     "output_type": "error",
     "traceback": [
      "\u001b[1;31m---------------------------------------------------------------------------\u001b[0m",
      "\u001b[1;31mNetworkXError\u001b[0m                             Traceback (most recent call last)",
      "\u001b[1;32m<ipython-input-74-21f964a6267c>\u001b[0m in \u001b[0;36m<module>\u001b[1;34m()\u001b[0m\n\u001b[1;32m----> 1\u001b[1;33m \u001b[0mG2\u001b[0m \u001b[1;33m=\u001b[0m \u001b[0mnx\u001b[0m\u001b[1;33m.\u001b[0m\u001b[0mread_gml\u001b[0m\u001b[1;33m(\u001b[0m\u001b[1;34m'blogs.gml'\u001b[0m\u001b[1;33m)\u001b[0m\u001b[1;33m\u001b[0m\u001b[0m\n\u001b[0m",
      "\u001b[1;32m<decorator-gen-323>\u001b[0m in \u001b[0;36mread_gml\u001b[1;34m(path, label, destringizer)\u001b[0m\n",
      "\u001b[1;32m~\\Anaconda2\\envs\\myenv\\lib\\site-packages\\networkx\\utils\\decorators.py\u001b[0m in \u001b[0;36m_open_file\u001b[1;34m(func, *args, **kwargs)\u001b[0m\n\u001b[0;32m    218\u001b[0m         \u001b[1;31m# Finally, we call the original function, making sure to close the fobj.\u001b[0m\u001b[1;33m\u001b[0m\u001b[1;33m\u001b[0m\u001b[0m\n\u001b[0;32m    219\u001b[0m         \u001b[1;32mtry\u001b[0m\u001b[1;33m:\u001b[0m\u001b[1;33m\u001b[0m\u001b[0m\n\u001b[1;32m--> 220\u001b[1;33m             \u001b[0mresult\u001b[0m \u001b[1;33m=\u001b[0m \u001b[0mfunc\u001b[0m\u001b[1;33m(\u001b[0m\u001b[1;33m*\u001b[0m\u001b[0mnew_args\u001b[0m\u001b[1;33m,\u001b[0m \u001b[1;33m**\u001b[0m\u001b[0mkwargs\u001b[0m\u001b[1;33m)\u001b[0m\u001b[1;33m\u001b[0m\u001b[0m\n\u001b[0m\u001b[0;32m    221\u001b[0m         \u001b[1;32mfinally\u001b[0m\u001b[1;33m:\u001b[0m\u001b[1;33m\u001b[0m\u001b[0m\n\u001b[0;32m    222\u001b[0m             \u001b[1;32mif\u001b[0m \u001b[0mclose_fobj\u001b[0m\u001b[1;33m:\u001b[0m\u001b[1;33m\u001b[0m\u001b[0m\n",
      "\u001b[1;32m~\\Anaconda2\\envs\\myenv\\lib\\site-packages\\networkx\\readwrite\\gml.py\u001b[0m in \u001b[0;36mread_gml\u001b[1;34m(path, label, destringizer)\u001b[0m\n\u001b[0;32m    208\u001b[0m             \u001b[1;32myield\u001b[0m \u001b[0mline\u001b[0m\u001b[1;33m\u001b[0m\u001b[0m\n\u001b[0;32m    209\u001b[0m \u001b[1;33m\u001b[0m\u001b[0m\n\u001b[1;32m--> 210\u001b[1;33m     \u001b[0mG\u001b[0m \u001b[1;33m=\u001b[0m \u001b[0mparse_gml_lines\u001b[0m\u001b[1;33m(\u001b[0m\u001b[0mfilter_lines\u001b[0m\u001b[1;33m(\u001b[0m\u001b[0mpath\u001b[0m\u001b[1;33m)\u001b[0m\u001b[1;33m,\u001b[0m \u001b[0mlabel\u001b[0m\u001b[1;33m,\u001b[0m \u001b[0mdestringizer\u001b[0m\u001b[1;33m)\u001b[0m\u001b[1;33m\u001b[0m\u001b[0m\n\u001b[0m\u001b[0;32m    211\u001b[0m     \u001b[1;32mreturn\u001b[0m \u001b[0mG\u001b[0m\u001b[1;33m\u001b[0m\u001b[0m\n\u001b[0;32m    212\u001b[0m \u001b[1;33m\u001b[0m\u001b[0m\n",
      "\u001b[1;32m~\\Anaconda2\\envs\\myenv\\lib\\site-packages\\networkx\\readwrite\\gml.py\u001b[0m in \u001b[0;36mparse_gml_lines\u001b[1;34m(lines, label, destringizer)\u001b[0m\n\u001b[0;32m    381\u001b[0m \u001b[1;33m\u001b[0m\u001b[0m\n\u001b[0;32m    382\u001b[0m     \u001b[0mtokens\u001b[0m \u001b[1;33m=\u001b[0m \u001b[0mtokenize\u001b[0m\u001b[1;33m(\u001b[0m\u001b[1;33m)\u001b[0m\u001b[1;33m\u001b[0m\u001b[0m\n\u001b[1;32m--> 383\u001b[1;33m     \u001b[0mgraph\u001b[0m \u001b[1;33m=\u001b[0m \u001b[0mparse_graph\u001b[0m\u001b[1;33m(\u001b[0m\u001b[1;33m)\u001b[0m\u001b[1;33m\u001b[0m\u001b[0m\n\u001b[0m\u001b[0;32m    384\u001b[0m \u001b[1;33m\u001b[0m\u001b[0m\n\u001b[0;32m    385\u001b[0m     \u001b[0mdirected\u001b[0m \u001b[1;33m=\u001b[0m \u001b[0mgraph\u001b[0m\u001b[1;33m.\u001b[0m\u001b[0mpop\u001b[0m\u001b[1;33m(\u001b[0m\u001b[1;34m'directed'\u001b[0m\u001b[1;33m,\u001b[0m \u001b[1;32mFalse\u001b[0m\u001b[1;33m)\u001b[0m\u001b[1;33m\u001b[0m\u001b[0m\n",
      "\u001b[1;32m~\\Anaconda2\\envs\\myenv\\lib\\site-packages\\networkx\\readwrite\\gml.py\u001b[0m in \u001b[0;36mparse_graph\u001b[1;34m()\u001b[0m\n\u001b[0;32m    370\u001b[0m \u001b[1;33m\u001b[0m\u001b[0m\n\u001b[0;32m    371\u001b[0m     \u001b[1;32mdef\u001b[0m \u001b[0mparse_graph\u001b[0m\u001b[1;33m(\u001b[0m\u001b[1;33m)\u001b[0m\u001b[1;33m:\u001b[0m\u001b[1;33m\u001b[0m\u001b[0m\n\u001b[1;32m--> 372\u001b[1;33m         \u001b[0mcurr_token\u001b[0m\u001b[1;33m,\u001b[0m \u001b[0mdct\u001b[0m \u001b[1;33m=\u001b[0m \u001b[0mparse_kv\u001b[0m\u001b[1;33m(\u001b[0m\u001b[0mnext\u001b[0m\u001b[1;33m(\u001b[0m\u001b[0mtokens\u001b[0m\u001b[1;33m)\u001b[0m\u001b[1;33m)\u001b[0m\u001b[1;33m\u001b[0m\u001b[0m\n\u001b[0m\u001b[0;32m    373\u001b[0m         \u001b[1;32mif\u001b[0m \u001b[0mcurr_token\u001b[0m\u001b[1;33m[\u001b[0m\u001b[1;36m0\u001b[0m\u001b[1;33m]\u001b[0m \u001b[1;32mis\u001b[0m \u001b[1;32mnot\u001b[0m \u001b[1;32mNone\u001b[0m\u001b[1;33m:\u001b[0m  \u001b[1;31m# EOF\u001b[0m\u001b[1;33m\u001b[0m\u001b[0m\n\u001b[0;32m    374\u001b[0m             \u001b[0munexpected\u001b[0m\u001b[1;33m(\u001b[0m\u001b[0mcurr_token\u001b[0m\u001b[1;33m,\u001b[0m \u001b[1;34m'EOF'\u001b[0m\u001b[1;33m)\u001b[0m\u001b[1;33m\u001b[0m\u001b[0m\n",
      "\u001b[1;32m~\\Anaconda2\\envs\\myenv\\lib\\site-packages\\networkx\\readwrite\\gml.py\u001b[0m in \u001b[0;36mtokenize\u001b[1;34m()\u001b[0m\n\u001b[0;32m    321\u001b[0m                 \u001b[1;32melse\u001b[0m\u001b[1;33m:\u001b[0m\u001b[1;33m\u001b[0m\u001b[0m\n\u001b[0;32m    322\u001b[0m                     raise NetworkXError('cannot tokenize %r at (%d, %d)' %\n\u001b[1;32m--> 323\u001b[1;33m                                         (line[pos:], lineno + 1, pos + 1))\n\u001b[0m\u001b[0;32m    324\u001b[0m             \u001b[0mlineno\u001b[0m \u001b[1;33m+=\u001b[0m \u001b[1;36m1\u001b[0m\u001b[1;33m\u001b[0m\u001b[0m\n\u001b[0;32m    325\u001b[0m         \u001b[1;32myield\u001b[0m \u001b[1;33m(\u001b[0m\u001b[1;32mNone\u001b[0m\u001b[1;33m,\u001b[0m \u001b[1;32mNone\u001b[0m\u001b[1;33m,\u001b[0m \u001b[0mlineno\u001b[0m \u001b[1;33m+\u001b[0m \u001b[1;36m1\u001b[0m\u001b[1;33m,\u001b[0m \u001b[1;36m1\u001b[0m\u001b[1;33m)\u001b[0m  \u001b[1;31m# EOF\u001b[0m\u001b[1;33m\u001b[0m\u001b[0m\n",
      "\u001b[1;31mNetworkXError\u001b[0m: cannot tokenize '<!DOCTYPE HTML>' at (1, 1)"
     ]
    }
   ],
   "source": [
    "G2 = nx.read_gml('blogs.gml')"
   ]
  },
  {
   "cell_type": "markdown",
   "metadata": {},
   "source": [
    "### Question 5\n",
    "\n",
    "Apply the Scaled Page Rank Algorithm to this network. Find the Page Rank of node 'realclearpolitics.com' with damping value 0.85.\n",
    "\n",
    "*This function should return a float.*"
   ]
  },
  {
   "cell_type": "code",
   "execution_count": 75,
   "metadata": {},
   "outputs": [],
   "source": [
    "def answer_five():\n",
    "        \n",
    "    # Your Code Here\n",
    "    pageRank = nx.pagerank(G,alpha=0.85)\n",
    "    \n",
    "    return pageRank"
   ]
  },
  {
   "cell_type": "code",
   "execution_count": 76,
   "metadata": {},
   "outputs": [
    {
     "data": {
      "text/plain": [
       "{0: 0.09700181758983709,\n",
       " 1: 0.05287839103742701,\n",
       " 2: 0.057078423047636745,\n",
       " 3: 0.03586064322306479,\n",
       " 4: 0.021979406974834498,\n",
       " 5: 0.02911334166344221,\n",
       " 6: 0.02911334166344221,\n",
       " 7: 0.024490758039509182,\n",
       " 8: 0.029765339186167028,\n",
       " 9: 0.014308950284462801,\n",
       " 10: 0.021979406974834498,\n",
       " 11: 0.009564916863537148,\n",
       " 12: 0.014645186487916191,\n",
       " 13: 0.029536314977202986,\n",
       " 14: 0.014535161524273825,\n",
       " 15: 0.014535161524273825,\n",
       " 16: 0.016785378110253487,\n",
       " 17: 0.014558859774243493,\n",
       " 18: 0.014535161524273825,\n",
       " 19: 0.019604416711937293,\n",
       " 20: 0.014535161524273825,\n",
       " 21: 0.014558859774243493,\n",
       " 22: 0.014535161524273825,\n",
       " 23: 0.03152091531163228,\n",
       " 24: 0.021075455001162945,\n",
       " 25: 0.021005628174745786,\n",
       " 26: 0.015043395360629753,\n",
       " 27: 0.025638803528350497,\n",
       " 28: 0.01957296050943854,\n",
       " 29: 0.02628726283711208,\n",
       " 30: 0.02458933653429248,\n",
       " 31: 0.03715663592267942,\n",
       " 32: 0.07169213006588289,\n",
       " 33: 0.1009179167487121}"
      ]
     },
     "execution_count": 76,
     "metadata": {},
     "output_type": "execute_result"
    }
   ],
   "source": [
    "answer_five()"
   ]
  },
  {
   "cell_type": "markdown",
   "metadata": {},
   "source": [
    "### Question 6\n",
    "\n",
    "Apply the Scaled Page Rank Algorithm to this network with damping value 0.85. Find the 5 nodes with highest Page Rank. \n",
    "\n",
    "*This function should return a list of the top 5 blogs in desending order of Page Rank.*"
   ]
  },
  {
   "cell_type": "code",
   "execution_count": null,
   "metadata": {
    "collapsed": true
   },
   "outputs": [],
   "source": [
    "def answer_six():\n",
    "        \n",
    "    # Your Code Here\n",
    "    \n",
    "    return # Your Answer Here"
   ]
  },
  {
   "cell_type": "markdown",
   "metadata": {
    "collapsed": true
   },
   "source": [
    "### Question 7\n",
    "\n",
    "Apply the HITS Algorithm to the network to find the hub and authority scores of node 'realclearpolitics.com'. \n",
    "\n",
    "*Your result should return a tuple of floats `(hub_score, authority_score)`.*"
   ]
  },
  {
   "cell_type": "code",
   "execution_count": 83,
   "metadata": {},
   "outputs": [],
   "source": [
    "def answer_seven():\n",
    "        \n",
    "    # Your Code Here\n",
    "    hits_score = nx.hits(G)\n",
    "    return (hits_score[0][0],hits_score[1][0])"
   ]
  },
  {
   "cell_type": "code",
   "execution_count": 84,
   "metadata": {},
   "outputs": [
    {
     "data": {
      "text/plain": [
       "(0.07141272875773573, 0.07141272880870855)"
      ]
     },
     "execution_count": 84,
     "metadata": {},
     "output_type": "execute_result"
    }
   ],
   "source": [
    "answer_seven()"
   ]
  },
  {
   "cell_type": "markdown",
   "metadata": {
    "collapsed": true
   },
   "source": [
    "### Question 8 \n",
    "\n",
    "Apply the HITS Algorithm to this network to find the 5 nodes with highest hub scores.\n",
    "\n",
    "*This function should return a list of the top 5 blogs in desending order of hub scores.*"
   ]
  },
  {
   "cell_type": "code",
   "execution_count": null,
   "metadata": {
    "collapsed": true
   },
   "outputs": [],
   "source": [
    "def answer_eight():\n",
    "        \n",
    "    # Your Code Here\n",
    "    \n",
    "    return # Your Answer Here"
   ]
  },
  {
   "cell_type": "markdown",
   "metadata": {},
   "source": [
    "### Question 9 \n",
    "\n",
    "Apply the HITS Algorithm to this network to find the 5 nodes with highest authority scores.\n",
    "\n",
    "*This function should return a list of the top 5 blogs in desending order of authority scores.*"
   ]
  },
  {
   "cell_type": "code",
   "execution_count": null,
   "metadata": {
    "collapsed": true
   },
   "outputs": [],
   "source": [
    "def answer_nine():\n",
    "        \n",
    "    # Your Code Here\n",
    "    \n",
    "    return # Your Answer Here"
   ]
  },
  {
   "cell_type": "code",
   "execution_count": 85,
   "metadata": {},
   "outputs": [],
   "source": [
    "L = [('a',1),('b',2),('c',3)]\n",
    "val = [ x for (x,y) in L]"
   ]
  },
  {
   "cell_type": "code",
   "execution_count": 86,
   "metadata": {},
   "outputs": [
    {
     "data": {
      "text/plain": [
       "['a', 'b', 'c']"
      ]
     },
     "execution_count": 86,
     "metadata": {},
     "output_type": "execute_result"
    }
   ],
   "source": [
    "val"
   ]
  },
  {
   "cell_type": "code",
   "execution_count": null,
   "metadata": {},
   "outputs": [],
   "source": []
  }
 ],
 "metadata": {
  "coursera": {
   "course_slug": "python-social-network-analysis",
   "graded_item_id": "4XCse",
   "launcher_item_id": "utvmz",
   "part_id": "cZ7Jg"
  },
  "kernelspec": {
   "display_name": "Python 3",
   "language": "python",
   "name": "python3"
  },
  "language_info": {
   "codemirror_mode": {
    "name": "ipython",
    "version": 3
   },
   "file_extension": ".py",
   "mimetype": "text/x-python",
   "name": "python",
   "nbconvert_exporter": "python",
   "pygments_lexer": "ipython3",
   "version": "3.5.4"
  }
 },
 "nbformat": 4,
 "nbformat_minor": 2
}
